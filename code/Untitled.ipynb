{
 "cells": [
  {
   "cell_type": "code",
   "execution_count": 13,
   "metadata": {},
   "outputs": [],
   "source": [
    "import sys\n",
    "sys.path.insert(0, './')\n",
    "import data as d\n",
    "import numpy as np"
   ]
  },
  {
   "cell_type": "code",
   "execution_count": 10,
   "metadata": {},
   "outputs": [
    {
     "name": "stdout",
     "output_type": "stream",
     "text": [
      "We have 507 stoic lessons from Marcus Aurelius\n"
     ]
    }
   ],
   "source": [
    "txt_meditations = d.meditations()[:5000]"
   ]
  },
  {
   "cell_type": "code",
   "execution_count": 5,
   "metadata": {},
   "outputs": [
    {
     "name": "stdout",
     "output_type": "stream",
     "text": [
      "Pulling Letter_1\n",
      "Pulling Letter_2\n",
      "Pulling Letter_3\n",
      "Pulling Letter_4\n",
      "Pulling Letter_5\n",
      "Pulling Letter_6\n",
      "Pulling Letter_7\n",
      "Pulling Letter_8\n",
      "Pulling Letter_9\n",
      "Pulling Letter_10\n",
      "Pulling Letter_11\n",
      "Pulling Letter_12\n",
      "Pulling Letter_13\n",
      "Pulling Letter_14\n",
      "Pulling Letter_15\n",
      "Pulling Letter_16\n",
      "Pulling Letter_17\n",
      "Pulling Letter_18\n",
      "Pulling Letter_19\n",
      "Pulling Letter_20\n",
      "Pulling Letter_21\n",
      "Pulling Letter_22\n",
      "Pulling Letter_23\n",
      "Pulling Letter_24\n",
      "Pulling Letter_25\n",
      "Pulling Letter_26\n",
      "Pulling Letter_27\n",
      "Pulling Letter_28\n",
      "Pulling Letter_29\n",
      "Pulling Letter_30\n",
      "Pulling Letter_31\n",
      "Pulling Letter_32\n",
      "Pulling Letter_33\n",
      "Pulling Letter_34\n",
      "Pulling Letter_35\n",
      "Pulling Letter_36\n",
      "Pulling Letter_37\n",
      "Pulling Letter_38\n",
      "Pulling Letter_39\n",
      "Pulling Letter_40\n",
      "Pulling Letter_41\n",
      "Pulling Letter_42\n",
      "Pulling Letter_43\n",
      "Pulling Letter_44\n",
      "Pulling Letter_45\n",
      "Pulling Letter_46\n",
      "Pulling Letter_47\n",
      "Pulling Letter_48\n",
      "Pulling Letter_49\n",
      "Pulling Letter_50\n",
      "Pulling Letter_51\n",
      "Pulling Letter_52\n",
      "Pulling Letter_53\n",
      "Pulling Letter_54\n",
      "Pulling Letter_55\n",
      "Pulling Letter_56\n",
      "Pulling Letter_57\n",
      "Pulling Letter_58\n",
      "Pulling Letter_59\n",
      "Pulling Letter_60\n",
      "Pulling Letter_61\n",
      "Pulling Letter_62\n",
      "Pulling Letter_63\n",
      "Pulling Letter_64\n",
      "Pulling Letter_65\n",
      "Pulling Letter_66\n",
      "Pulling Letter_67\n",
      "Pulling Letter_68\n",
      "Pulling Letter_69\n",
      "Pulling Letter_70\n",
      "Pulling Letter_71\n",
      "Pulling Letter_72\n",
      "Pulling Letter_73\n",
      "Pulling Letter_74\n",
      "Pulling Letter_75\n",
      "Pulling Letter_76\n",
      "Pulling Letter_77\n",
      "Pulling Letter_78\n",
      "Pulling Letter_79\n",
      "Pulling Letter_80\n",
      "Pulling Letter_81\n",
      "Pulling Letter_82\n",
      "Pulling Letter_83\n",
      "Pulling Letter_84\n",
      "Pulling Letter_85\n",
      "Pulling Letter_86\n",
      "Pulling Letter_87\n",
      "Pulling Letter_88\n",
      "Pulling Letter_89\n",
      "Pulling Letter_90\n",
      "Pulling Letter_91\n",
      "Pulling Letter_92\n",
      "Pulling Letter_93\n",
      "Pulling Letter_94\n",
      "Pulling Letter_95\n",
      "Pulling Letter_96\n",
      "Pulling Letter_97\n",
      "Pulling Letter_98\n",
      "Pulling Letter_99\n",
      "Pulling Letter_100\n",
      "Pulling Letter_101\n",
      "Pulling Letter_102\n",
      "Pulling Letter_103\n",
      "Pulling Letter_104\n",
      "Pulling Letter_105\n",
      "Pulling Letter_106\n",
      "Pulling Letter_107\n",
      "Pulling Letter_108\n",
      "Pulling Letter_109\n",
      "Pulling Letter_110\n",
      "Pulling Letter_111\n",
      "Pulling Letter_112\n",
      "Pulling Letter_113\n",
      "Pulling Letter_114\n",
      "Pulling Letter_115\n",
      "Pulling Letter_116\n",
      "Pulling Letter_117\n",
      "Pulling Letter_118\n",
      "Pulling Letter_119\n",
      "Pulling Letter_120\n",
      "Pulling Letter_121\n",
      "Pulling Letter_122\n",
      "Pulling Letter_123\n",
      "Pulling Letter_124\n"
     ]
    }
   ],
   "source": [
    "txt_letters = d.hello_lucilius()"
   ]
  },
  {
   "cell_type": "code",
   "execution_count": 7,
   "metadata": {},
   "outputs": [],
   "source": [
    "txt_letters = \"\\n\".join([txt_letters[key][1] for key in txt_letters])"
   ]
  },
  {
   "cell_type": "code",
   "execution_count": 11,
   "metadata": {},
   "outputs": [
    {
     "name": "stdout",
     "output_type": "stream",
     "text": [
      "['\\n', ' ', '!', '\"', \"'\", '(', ')', ',', '-', '.', ':', ';', '?', 'A', 'B', 'C', 'D', 'E', 'F', 'G', 'H', 'I', 'J', 'K', 'L', 'M', 'N', 'O', 'P', 'Q', 'R', 'S', 'T', 'U', 'V', 'W', 'X', 'Y', 'Z', 'a', 'b', 'c', 'd', 'e', 'f', 'g', 'h', 'i', 'j', 'k', 'l', 'm', 'n', 'o', 'p', 'q', 'r', 's', 't', 'u', 'v', 'w', 'x', 'y', 'z', 'é', 'ô', 'œ', 'ά', 'ί', 'α', 'δ', 'ι', 'ν', 'ο', 'ρ', 'σ', 'φ', 'ἀ', 'ὄ', 'ὐ', '–', '—']\n"
     ]
    }
   ],
   "source": [
    "# joining the data\n",
    "txt = \"\\n\".join([txt_meditations, txt_letters])\n",
    "\n",
    "# create vocab (character level)\n",
    "vocab = sorted(set(txt))\n",
    "\n",
    "print(vocab)"
   ]
  },
  {
   "cell_type": "code",
   "execution_count": 14,
   "metadata": {},
   "outputs": [],
   "source": [
    "char2idx = {char: i for i, char in enumerate(vocab)}\n",
    "idx2char = np.array(vocab)"
   ]
  },
  {
   "cell_type": "code",
   "execution_count": 15,
   "metadata": {},
   "outputs": [
    {
     "name": "stdout",
     "output_type": "stream",
     "text": [
      "{'\\n': 0, ' ': 1, '!': 2, '\"': 3, \"'\": 4, '(': 5, ')': 6, ',': 7, '-': 8, '.': 9, ':': 10, ';': 11, '?': 12, 'A': 13, 'B': 14, 'C': 15, 'D': 16, 'E': 17, 'F': 18, 'G': 19, 'H': 20, 'I': 21, 'J': 22, 'K': 23, 'L': 24, 'M': 25, 'N': 26, 'O': 27, 'P': 28, 'Q': 29, 'R': 30, 'S': 31, 'T': 32, 'U': 33, 'V': 34, 'W': 35, 'X': 36, 'Y': 37, 'Z': 38, 'a': 39, 'b': 40, 'c': 41, 'd': 42, 'e': 43, 'f': 44, 'g': 45, 'h': 46, 'i': 47, 'j': 48, 'k': 49, 'l': 50, 'm': 51, 'n': 52, 'o': 53, 'p': 54, 'q': 55, 'r': 56, 's': 57, 't': 58, 'u': 59, 'v': 60, 'w': 61, 'x': 62, 'y': 63, 'z': 64, 'é': 65, 'ô': 66, 'œ': 67, 'ά': 68, 'ί': 69, 'α': 70, 'δ': 71, 'ι': 72, 'ν': 73, 'ο': 74, 'ρ': 75, 'σ': 76, 'φ': 77, 'ἀ': 78, 'ὄ': 79, 'ὐ': 80, '–': 81, '—': 82}\n"
     ]
    }
   ],
   "source": [
    "print(char2idx)"
   ]
  },
  {
   "cell_type": "code",
   "execution_count": 16,
   "metadata": {},
   "outputs": [
    {
     "name": "stdout",
     "output_type": "stream",
     "text": [
      "['\\n' ' ' '!' '\"' \"'\" '(' ')' ',' '-' '.' ':' ';' '?' 'A' 'B' 'C' 'D' 'E'\n",
      " 'F' 'G' 'H' 'I' 'J' 'K' 'L' 'M' 'N' 'O' 'P' 'Q' 'R' 'S' 'T' 'U' 'V' 'W'\n",
      " 'X' 'Y' 'Z' 'a' 'b' 'c' 'd' 'e' 'f' 'g' 'h' 'i' 'j' 'k' 'l' 'm' 'n' 'o'\n",
      " 'p' 'q' 'r' 's' 't' 'u' 'v' 'w' 'x' 'y' 'z' 'é' 'ô' 'œ' 'ά' 'ί' 'α' 'δ'\n",
      " 'ι' 'ν' 'ο' 'ρ' 'σ' 'φ' 'ἀ' 'ὄ' 'ὐ' '–' '—']\n"
     ]
    }
   ],
   "source": [
    "print(idx2char)"
   ]
  },
  {
   "cell_type": "code",
   "execution_count": 17,
   "metadata": {},
   "outputs": [],
   "source": [
    "data_idx = np.array([char2idx[char] for char in txt])"
   ]
  },
  {
   "cell_type": "code",
   "execution_count": 18,
   "metadata": {},
   "outputs": [
    {
     "name": "stdout",
     "output_type": "stream",
     "text": [
      "[18 56 53 51  1 51 63  1 45 56 39 52 42 44 39 58 46 43 56  1 34 43 56 59\n",
      " 57  1 21  1 50 43 39 56 52 43 42  1 45 53 53 42  1 51 53 56 39 50 57  1\n",
      " 39 52 42  1 58 46 43  1 45 53 60 43 56 52 51 43 52 58  1 53 44  1 51 63\n",
      "  1 58 43 51 54 43 56  9  0 18 56 53 51  1 58 46 43  1 56 43 54 59 58 39\n",
      " 58 47 53 52  1 39 52 42  1 56 43 51 43 51 40 56 39 52 41 43  1 53 44  1\n",
      " 51 63  1 44 39 58 46 43 56  7  1 51 53 42 43 57 58 63  1 39 52 42  1 39\n",
      "  1 51 39 52 50 63  1 41 46 39 56 39 41 58 43 56  9  0 18 56 53 51  1 51\n",
      " 63  1 51 53 58 46 43 56  7  1 54 47 43 58 63  1 39 52 42  1 40 43 52 43\n",
      " 44 47 41 43 52 41 43  7  1 39 52 42  1 39 40 57 58 47 52 43 52 41 43  7\n",
      "  1 52 53 58  1 53 52 50 63  1 44 56 53 51  1 43 60 47 50  1 42 43 43 42\n",
      " 57  7  1 40 59 58  1 43 60 43 52  1 44 56 53 51  1 43 60 47 50  1 58 46\n",
      " 53 59 45 46 58 57 11  1 39 52 42  1 44 59 56 58 46 43 56  7  1 57 47 51\n",
      " 54 50 47 41 47 58 63  1 47 52  1 51 63  1 61 39 63  1 53 44  1 50 47 60\n",
      " 47 52 45  7  1 44 39 56  1 56 43 51 53 60 43 42  1 44 56 53 51  1 58 46\n",
      " 43  1 46 39 40 47 58 57  1 53 44  1 58 46 43  1 56 47 41 46  9  0 18 56\n",
      " 53 51  1 51 63  1 45 56 43 39 58  8 45 56 39 52 42 44 39 58 46 43 56  7\n",
      "  1 52 53 58  1 58 53  1 46 39 60 43  1 44 56 43 55 59 43 52 58 43 42  1\n",
      " 54 59 40 50 47 41  1 57 41 46 53 53 50 57  7  1 39 52 42  1 58 53  1 46\n",
      " 39 60 43  1 46 39 42  1 45 53 53 42  1 58 43 39 41 46 43 56 57  1 39 58\n",
      "  1 46 53 51 43  7  1 39 52 42  1 58 53  1 49 52 53 61  1 58 46 39 58  1\n",
      " 53 52  1 57 59 41 46  1 58 46 47 52 45 57  1 39  1 51 39 52]\n"
     ]
    }
   ],
   "source": [
    "print(data_idx[:500])"
   ]
  },
  {
   "cell_type": "code",
   "execution_count": null,
   "metadata": {},
   "outputs": [],
   "source": []
  }
 ],
 "metadata": {
  "kernelspec": {
   "display_name": "Python 3",
   "language": "python",
   "name": "python3"
  },
  "language_info": {
   "codemirror_mode": {
    "name": "ipython",
    "version": 3
   },
   "file_extension": ".py",
   "mimetype": "text/x-python",
   "name": "python",
   "nbconvert_exporter": "python",
   "pygments_lexer": "ipython3",
   "version": "3.7.4"
  }
 },
 "nbformat": 4,
 "nbformat_minor": 4
}

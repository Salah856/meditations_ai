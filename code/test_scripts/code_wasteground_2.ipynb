{
 "cells": [
  {
   "cell_type": "code",
   "execution_count": 1,
   "metadata": {
    "colab": {
     "base_uri": "https://localhost:8080/",
     "height": 333
    },
    "colab_type": "code",
    "executionInfo": {
     "elapsed": 1100,
     "status": "error",
     "timestamp": 1586092305103,
     "user": {
      "displayName": "James Calam",
      "photoUrl": "https://lh3.googleusercontent.com/a-/AOh14GhlknJhTItRIlPNZ3p-9e_CT9CS_f8GgnLOfHmGiQ=s64",
      "userId": "12893500451729195124"
     },
     "user_tz": -60
    },
    "id": "g8ujzWuId1x4",
    "outputId": "46e94711-1935-4f27-b6d3-9a8c66b6b4ec"
   },
   "outputs": [],
   "source": [
    "import sys\n",
    "import os\n",
    "\n",
    "sys.path.insert(0, os.getcwd())\n",
    "import data as d"
   ]
  },
  {
   "cell_type": "code",
   "execution_count": 2,
   "metadata": {
    "colab": {},
    "colab_type": "code",
    "id": "Xcw3LxNrd8sA"
   },
   "outputs": [
    {
     "name": "stdout",
     "output_type": "stream",
     "text": [
      "We have 507 stoic lessons from Marcus Aurelius\n",
      "\n",
      "From my grandfather Verus I learned good morals and the government of my temper.\n",
      "From the reputation and remembrance of my father, modesty and a manly character.\n",
      "From my mother, piety and beneficence, and abstinence, not only from evil deeds, but even from evil thoughts; and further, simplicity in my way of living, far removed from the habits of the rich.\n",
      "From my great-grandfather, not to have frequented public schools, and to have had good teachers at home, and to know that on such things a man\n",
      "\n",
      "Summary:\n",
      "241387 characters\n",
      "44225 words\n",
      "Unique:\n",
      "67 characters\n",
      "6514 words\n"
     ]
    }
   ],
   "source": [
    "txt_meditations = d.meditations()\n",
    "print(f\"\\n{txt_meditations[:500]}\")\n",
    "print(\"\\nSummary:\\n{} characters\\n{} words\".format(len(txt_meditations), len(txt_meditations.split(\" \"))))\n",
    "print(\"Unique:\\n{} characters\\n{} words\".format(len(list(set(txt_meditations))), len(list(set(txt_meditations.split(\" \"))))))"
   ]
  },
  {
   "cell_type": "code",
   "execution_count": 3,
   "metadata": {
    "scrolled": true
   },
   "outputs": [
    {
     "name": "stdout",
     "output_type": "stream",
     "text": [
      "Pulling Letter_1\n",
      "Pulling Letter_2\n",
      "Pulling Letter_3\n",
      "Pulling Letter_4\n",
      "Pulling Letter_5\n",
      "Pulling Letter_6\n",
      "Pulling Letter_7\n",
      "Pulling Letter_8\n",
      "Pulling Letter_9\n",
      "Pulling Letter_10\n",
      "Pulling Letter_11\n",
      "Pulling Letter_12\n",
      "Pulling Letter_13\n",
      "Pulling Letter_14\n",
      "Pulling Letter_15\n",
      "Pulling Letter_16\n",
      "Pulling Letter_17\n",
      "Pulling Letter_18\n",
      "Pulling Letter_19\n",
      "Pulling Letter_20\n",
      "Pulling Letter_21\n",
      "Pulling Letter_22\n",
      "Pulling Letter_23\n",
      "Pulling Letter_24\n",
      "Pulling Letter_25\n",
      "Pulling Letter_26\n",
      "Pulling Letter_27\n",
      "Pulling Letter_28\n",
      "Pulling Letter_29\n",
      "Pulling Letter_30\n",
      "Pulling Letter_31\n",
      "Pulling Letter_32\n",
      "Pulling Letter_33\n",
      "Pulling Letter_34\n",
      "Pulling Letter_35\n",
      "Pulling Letter_36\n",
      "Pulling Letter_37\n",
      "Pulling Letter_38\n",
      "Pulling Letter_39\n",
      "Pulling Letter_40\n",
      "Pulling Letter_41\n",
      "Pulling Letter_42\n",
      "Pulling Letter_43\n",
      "Pulling Letter_44\n",
      "Pulling Letter_45\n",
      "Pulling Letter_46\n",
      "Pulling Letter_47\n",
      "Pulling Letter_48\n",
      "Pulling Letter_49\n",
      "Pulling Letter_50\n",
      "Pulling Letter_51\n",
      "Pulling Letter_52\n",
      "Pulling Letter_53\n",
      "Pulling Letter_54\n",
      "Pulling Letter_55\n",
      "Pulling Letter_56\n",
      "Pulling Letter_57\n",
      "Pulling Letter_58\n",
      "Pulling Letter_59\n",
      "Pulling Letter_60\n",
      "Pulling Letter_61\n",
      "Pulling Letter_62\n",
      "Pulling Letter_63\n",
      "Pulling Letter_64\n",
      "Pulling Letter_65\n",
      "Pulling Letter_66\n",
      "Pulling Letter_67\n",
      "Pulling Letter_68\n",
      "Pulling Letter_69\n",
      "Pulling Letter_70\n",
      "Pulling Letter_71\n",
      "Pulling Letter_72\n",
      "Pulling Letter_73\n",
      "Pulling Letter_74\n",
      "Pulling Letter_75\n",
      "Pulling Letter_76\n",
      "Pulling Letter_77\n",
      "Pulling Letter_78\n",
      "Pulling Letter_79\n",
      "Pulling Letter_80\n",
      "Pulling Letter_81\n",
      "Pulling Letter_82\n",
      "Pulling Letter_83\n",
      "Pulling Letter_84\n",
      "Pulling Letter_85\n",
      "Pulling Letter_86\n",
      "Pulling Letter_87\n",
      "Pulling Letter_88\n",
      "Pulling Letter_89\n",
      "Pulling Letter_90\n",
      "Pulling Letter_91\n",
      "Pulling Letter_92\n",
      "Pulling Letter_93\n",
      "Pulling Letter_94\n",
      "Pulling Letter_95\n",
      "Pulling Letter_96\n",
      "Pulling Letter_97\n",
      "Pulling Letter_98\n",
      "Pulling Letter_99\n",
      "Pulling Letter_100\n",
      "Pulling Letter_101\n",
      "Pulling Letter_102\n",
      "Pulling Letter_103\n",
      "Pulling Letter_104\n",
      "Pulling Letter_105\n",
      "Pulling Letter_106\n",
      "Pulling Letter_107\n",
      "Pulling Letter_108\n",
      "Pulling Letter_109\n",
      "Pulling Letter_110\n",
      "Pulling Letter_111\n",
      "Pulling Letter_112\n",
      "Pulling Letter_113\n",
      "Pulling Letter_114\n",
      "Pulling Letter_115\n",
      "Pulling Letter_116\n",
      "Pulling Letter_117\n",
      "Pulling Letter_118\n",
      "Pulling Letter_119\n",
      "Pulling Letter_120\n",
      "Pulling Letter_121\n",
      "Pulling Letter_122\n",
      "Pulling Letter_123\n",
      "Pulling Letter_124\n"
     ]
    }
   ],
   "source": [
    "dict_letters = d.hello_lucilius()"
   ]
  },
  {
   "cell_type": "code",
   "execution_count": 4,
   "metadata": {
    "scrolled": true
   },
   "outputs": [],
   "source": [
    "txt_letters = '\\n'.join([dict_letters[key][1] for key in dict_letters])"
   ]
  },
  {
   "cell_type": "code",
   "execution_count": 5,
   "metadata": {
    "scrolled": true
   },
   "outputs": [
    {
     "name": "stdout",
     "output_type": "stream",
     "text": [
      "Greetings from Seneca to his friend Lucilius. \n",
      "Continue to act thus, my dear Lucilius – set yourself free for your own sake; gather and save your time, which till lately has been forced from you, or filched away, or has merely slipped from your hands. Make yourself believe the truth of my words, – that certain moments are torn from us, that some are gently removed, and that others glide beyond our reach. The most disgraceful kind of loss, however, is that due to carelessness. Furthermore, if you\n",
      "\n",
      "Summary:\n",
      "1143036 characters\n",
      "209367 words\n",
      "Unique:\n",
      "83 characters\n",
      "22880 words\n"
     ]
    }
   ],
   "source": [
    "print(txt_letters[:500])\n",
    "print(\"\\nSummary:\\n{} characters\\n{} words\".format(len(txt_letters), len(txt_letters.split(\" \"))))\n",
    "print(\"Unique:\\n{} characters\\n{} words\".format(len(list(set(txt_letters))), len(list(set(txt_letters.split(\" \"))))))"
   ]
  },
  {
   "cell_type": "code",
   "execution_count": 6,
   "metadata": {},
   "outputs": [
    {
     "name": "stdout",
     "output_type": "stream",
     "text": [
      "\n",
      "Summary:\n",
      "1384424 characters\n",
      "253591 words\n",
      "Unique:\n",
      "85 characters\n",
      "25486 words\n"
     ]
    }
   ],
   "source": [
    "txt = \"\\n\".join([txt_meditations, txt_letters])\n",
    "print(\"\\nSummary:\\n{} characters\\n{} words\".format(len(txt), len(txt.split(\" \"))))\n",
    "print(\"Unique:\\n{} characters\\n{} words\".format(len(list(set(txt))), len(list(set(txt.split(\" \"))))))"
   ]
  },
  {
   "cell_type": "code",
   "execution_count": 7,
   "metadata": {},
   "outputs": [
    {
     "name": "stdout",
     "output_type": "stream",
     "text": [
      "it God – it is Nature that perfects the Good; of the other – to wit man – pains and study do so. All other things are perfect only in their particular nature, and not truly perfect, since they lack reason.\n",
      "Indeed, to sum up, that alone is perfect which is perfect according to nature as a whole, and nature as a whole is possessed of reason. Other things can be perfect according to their kind. That which cannot contain the happy life cannot contain that which produces the happy life; and the happy life is produced by Goods alone. In dumb animals there is not a trace of the happy life, nor of the means whereby the happy life is produced; in dumb animals the Good does not exist. The dumb animal comprehends the present world about him through his senses alone. He remembers the past only by meeting with something which reminds his senses; a horse, for example, remembers the right road only when he is placed at the starting-point. In his stall, however, he has no memory of the road, no matter how often he may have stepped along it. The third state – the future – does not come within the ken of dumb beasts.\n",
      "How, then, can we regard as perfect the nature of those who have no experience of time in its perfection? For time is three-fold, – past, present, and future. Animals perceive only the time which is of greatest moment to them within the limits of their coming and going – the present. Rarely do they recollect the past – and that only when they are confronted with present reminders. Therefore the Good of a perfect nature cannot exist in an imperfect nature; for if the latter sort of nature should possess the Good, so also would mere vegetation. I do not indeed deny that dumb animals have strong and swift impulses toward actions which seem according to nature, but such impulses are confused and disordered. The Good however, is never confused or disordered. \n",
      "\"What!\" you say, \"do dumb animals move in disturbed and ill-ordered fashion?\" I should say that they moved in disturbed and ill-ordered fashion, if their nature admitted of order; as it is, they move in accordance with their nature. For that is said to be \"disturbed\" which can also at some other time be \"not disturbed\"; so, too, that is said to be in a state of trouble which can be in a state of peace. No man is vicious except one who has the capacity of virtue; in the case of dumb animals their motion is such as results from their nature. But, not to weary you, a certain sort of good will be found in a dumb animal, and a certain sort of virtue, and a certain sort of perfection – but neither the Good, nor virtue, nor perfection in the absolute sense. For this is the privilege of reasoning beings alone, who are permitted to know the cause, the degree, and the means. Therefore, good can exist only in that which possesses reason.\n",
      "Do you ask now whither our argument is tending, and of what benefit it will be to your mind? I will tell you: it exercises and sharpens the mind, and ensures, by occupying it honourably, that it will accomplish some sort of good. And even that is beneficial which holds men back when they are hurrying into wickedness. However, I will say this also: I can be of no greater benefit to you than by revealing the Good that is rightly yours, by taking you out of the class of dumb animals, and by placing you on a level with God. Why, pray, do you foster and practise your bodily strength? Nature has granted strength in greater degree to cattle and wild beasts. Why cultivate your beauty? After all your efforts, dumb animals surpass you in comeliness. Why dress your hair with such unending attention? Though you let it down in Parthian fashion, or tie it up in the German style, or, as the Scythians do, let it flow wild – yet you will see a mane of greater thickness tossing upon any horse you choose, and a mane of greater beauty bristling upon the neck of any lion. And even after training yourself for speed, you will be no match for the hare. Are you not willing to abandon all these details – wherein you must acknowledge defeat, striving as you are for something that is not your own – and come back to the Good that is really yours? \n",
      "And what is this Good? It is a clear and flawless mind, which rivals that of God, raised far above mortal concerns, and counting nothing of its own to be outside itself. You are a reasoning animal. What Good, then, lies within you? Perfect reason. Are you willing to develop this to its farthest limits – to its greatest degree of increase? Only consider yourself happy when all your joys are born of reason, and when – having marked all the objects which men clutch at, or pray for, or watch over – you find nothing which you will desire; mind, I do not say prefer. Here is a short rule by which to measure yourself, and by the test of which you may feel that you have reached perfection: \"You will come to your own when you shall understand that those whom the world calls fortunate are really the most unfortunate of all.\" Farewell.\n",
      "\n"
     ]
    }
   ],
   "source": [
    "print(txt[-5000:])"
   ]
  },
  {
   "cell_type": "code",
   "execution_count": null,
   "metadata": {},
   "outputs": [],
   "source": []
  }
 ],
 "metadata": {
  "colab": {
   "authorship_tag": "ABX9TyPF4hQn+q2LlaPtl9oQlfMz",
   "collapsed_sections": [],
   "name": "code_wasteground_2.ipynb",
   "provenance": []
  },
  "kernelspec": {
   "display_name": "Python 3",
   "language": "python",
   "name": "python3"
  },
  "language_info": {
   "codemirror_mode": {
    "name": "ipython",
    "version": 3
   },
   "file_extension": ".py",
   "mimetype": "text/x-python",
   "name": "python",
   "nbconvert_exporter": "python",
   "pygments_lexer": "ipython3",
   "version": "3.7.4"
  }
 },
 "nbformat": 4,
 "nbformat_minor": 4
}
